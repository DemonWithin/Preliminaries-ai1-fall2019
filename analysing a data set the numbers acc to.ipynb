{
  "nbformat": 4,
  "nbformat_minor": 0,
  "metadata": {
    "colab": {
      "name": "Untitled0.ipynb",
      "provenance": [],
      "collapsed_sections": [],
      "include_colab_link": true
    },
    "kernelspec": {
      "name": "python3",
      "display_name": "Python 3"
    }
  },
  "cells": [
    {
      "cell_type": "markdown",
      "metadata": {
        "id": "view-in-github",
        "colab_type": "text"
      },
      "source": [
        "<a href=\"https://colab.research.google.com/github/DemonWithin/Preliminaries-ai1-fall2019/blob/master/analysing%20a%20data%20set%20the%20numbers%20acc%20to.ipynb\" target=\"_parent\"><img src=\"https://colab.research.google.com/assets/colab-badge.svg\" alt=\"Open In Colab\"/></a>"
      ]
    },
    {
      "cell_type": "code",
      "metadata": {
        "id": "grbguQfeoEKD",
        "colab_type": "code",
        "colab": {
          "base_uri": "https://localhost:8080/",
          "height": 1000
        },
        "outputId": "148094f7-3c18-443b-aa39-630bce246d3a"
      },
      "source": [
        "# taken from lukas/ml-class\n",
        "import numpy as np\n",
        "from keras.datasets import mnist\n",
        "from keras.models import Sequential\n",
        "from keras.layers import Dense, Flatten, Dropout\n",
        "from keras.utils import np_utils\n",
        "from keras.callbacks import Callback\n",
        "import json\n",
        "\n",
        "#from wandb.keras import WandbCallback\n",
        "#import wandb\n",
        "\n",
        "#run = wandb.init()\n",
        "#config = run.config\n",
        "\n",
        "class config:\n",
        "  pass\n",
        "config.optimizer = \"adam\"\n",
        "config.epochs = 30\n",
        "config.hidden_nodes = 16\n",
        "\n",
        "# load data\n",
        "(X_train, y_train), (X_test, y_test) = mnist.load_data()\n",
        "img_width = X_train.shape[1]\n",
        "img_height = X_train.shape[2]\n",
        "print(X_train.shape,y_train.shape)\n",
        "#X_train = X_train.astype('float32')\n",
        "#X_train /= 255.\n",
        "#X_test = X_test.astype('float32')\n",
        "#X_test /= 255.\n",
        "\n",
        "# Normalize, change learning rate, play with layer size, batchsize\n",
        "\n",
        "# one hot encode outputs\n",
        "y_train = np_utils.to_categorical(y_train)\n",
        "y_test = np_utils.to_categorical(y_test)\n",
        "labels = range(10)\n",
        "\n",
        "num_classes = y_train.shape[1]\n",
        "\n",
        "\n",
        "# create model\n",
        "model = Sequential()\n",
        "model.add(Flatten(input_shape=(img_width, img_height)))\n",
        "model.add(Dense(config.hidden_nodes, activation='relu'))\n",
        "model.add(Dense(config.hidden_nodes, activation='relu'))\n",
        "model.add(Dense(num_classes, activation='softmax'))\n",
        "model.compile(loss='categorical_crossentropy', optimizer=config.optimizer,\n",
        "              metrics=['accuracy'])\n",
        "model.summary()\n",
        "# Fit the model\n",
        "model.fit(X_train, y_train, validation_data=(X_test, y_test),\n",
        "         epochs=config.epochs)"
      ],
      "execution_count": 12,
      "outputs": [
        {
          "output_type": "stream",
          "text": [
            "(60000, 28, 28) (60000,)\n",
            "Model: \"sequential_3\"\n",
            "_________________________________________________________________\n",
            "Layer (type)                 Output Shape              Param #   \n",
            "=================================================================\n",
            "flatten_3 (Flatten)          (None, 784)               0         \n",
            "_________________________________________________________________\n",
            "dense_7 (Dense)              (None, 16)                12560     \n",
            "_________________________________________________________________\n",
            "dense_8 (Dense)              (None, 16)                272       \n",
            "_________________________________________________________________\n",
            "dense_9 (Dense)              (None, 10)                170       \n",
            "=================================================================\n",
            "Total params: 13,002\n",
            "Trainable params: 13,002\n",
            "Non-trainable params: 0\n",
            "_________________________________________________________________\n",
            "Train on 60000 samples, validate on 10000 samples\n",
            "Epoch 1/30\n",
            "60000/60000 [==============================] - 3s 55us/step - loss: 2.2391 - acc: 0.3418 - val_loss: 1.4511 - val_acc: 0.4573\n",
            "Epoch 2/30\n",
            "60000/60000 [==============================] - 3s 51us/step - loss: 1.2218 - acc: 0.5114 - val_loss: 1.0883 - val_acc: 0.5345\n",
            "Epoch 3/30\n",
            "60000/60000 [==============================] - 3s 53us/step - loss: 1.0520 - acc: 0.5756 - val_loss: 1.0140 - val_acc: 0.5897\n",
            "Epoch 4/30\n",
            "60000/60000 [==============================] - 3s 51us/step - loss: 0.9560 - acc: 0.6324 - val_loss: 0.9004 - val_acc: 0.6627\n",
            "Epoch 5/30\n",
            "60000/60000 [==============================] - 3s 51us/step - loss: 0.8548 - acc: 0.6770 - val_loss: 0.7573 - val_acc: 0.7272\n",
            "Epoch 6/30\n",
            "60000/60000 [==============================] - 3s 51us/step - loss: 0.7070 - acc: 0.7407 - val_loss: 0.6770 - val_acc: 0.7630\n",
            "Epoch 7/30\n",
            "60000/60000 [==============================] - 3s 52us/step - loss: 0.6696 - acc: 0.7530 - val_loss: 0.6537 - val_acc: 0.7656\n",
            "Epoch 8/30\n",
            "60000/60000 [==============================] - 3s 52us/step - loss: 0.6552 - acc: 0.7563 - val_loss: 0.6193 - val_acc: 0.7752\n",
            "Epoch 9/30\n",
            "60000/60000 [==============================] - 3s 52us/step - loss: 0.6383 - acc: 0.7637 - val_loss: 0.6848 - val_acc: 0.7718\n",
            "Epoch 10/30\n",
            "60000/60000 [==============================] - 3s 51us/step - loss: 0.6215 - acc: 0.7682 - val_loss: 0.6030 - val_acc: 0.7805\n",
            "Epoch 11/30\n",
            "60000/60000 [==============================] - 3s 54us/step - loss: 0.6234 - acc: 0.7700 - val_loss: 0.6455 - val_acc: 0.7638\n",
            "Epoch 12/30\n",
            "60000/60000 [==============================] - 3s 52us/step - loss: 0.6020 - acc: 0.7814 - val_loss: 0.6381 - val_acc: 0.7662\n",
            "Epoch 13/30\n",
            "60000/60000 [==============================] - 3s 52us/step - loss: 0.5939 - acc: 0.7888 - val_loss: 0.5839 - val_acc: 0.8182\n",
            "Epoch 14/30\n",
            "60000/60000 [==============================] - 3s 52us/step - loss: 0.5502 - acc: 0.8351 - val_loss: 0.5383 - val_acc: 0.8360\n",
            "Epoch 15/30\n",
            "60000/60000 [==============================] - 3s 51us/step - loss: 0.5167 - acc: 0.8497 - val_loss: 0.5322 - val_acc: 0.8473\n",
            "Epoch 16/30\n",
            "60000/60000 [==============================] - 3s 51us/step - loss: 0.5042 - acc: 0.8533 - val_loss: 0.5010 - val_acc: 0.8603\n",
            "Epoch 17/30\n",
            "60000/60000 [==============================] - 3s 51us/step - loss: 0.4908 - acc: 0.8550 - val_loss: 0.5021 - val_acc: 0.8444\n",
            "Epoch 18/30\n",
            "60000/60000 [==============================] - 3s 51us/step - loss: 0.4840 - acc: 0.8564 - val_loss: 0.4735 - val_acc: 0.8591\n",
            "Epoch 19/30\n",
            "60000/60000 [==============================] - 3s 52us/step - loss: 0.4493 - acc: 0.8657 - val_loss: 0.4577 - val_acc: 0.8655\n",
            "Epoch 20/30\n",
            "60000/60000 [==============================] - 3s 52us/step - loss: 0.4291 - acc: 0.8710 - val_loss: 0.4342 - val_acc: 0.8736\n",
            "Epoch 21/30\n",
            "60000/60000 [==============================] - 3s 53us/step - loss: 0.4200 - acc: 0.8754 - val_loss: 0.4222 - val_acc: 0.8739\n",
            "Epoch 22/30\n",
            "60000/60000 [==============================] - 3s 51us/step - loss: 0.3960 - acc: 0.8842 - val_loss: 0.3921 - val_acc: 0.8877\n",
            "Epoch 23/30\n",
            "60000/60000 [==============================] - 3s 50us/step - loss: 0.3824 - acc: 0.8888 - val_loss: 0.3823 - val_acc: 0.8892\n",
            "Epoch 24/30\n",
            "60000/60000 [==============================] - 3s 52us/step - loss: 0.3713 - acc: 0.8928 - val_loss: 0.3732 - val_acc: 0.8946\n",
            "Epoch 25/30\n",
            "60000/60000 [==============================] - 3s 52us/step - loss: 0.3613 - acc: 0.8959 - val_loss: 0.3714 - val_acc: 0.8885\n",
            "Epoch 26/30\n",
            "60000/60000 [==============================] - 3s 54us/step - loss: 0.3525 - acc: 0.8985 - val_loss: 0.3570 - val_acc: 0.8966\n",
            "Epoch 27/30\n",
            "60000/60000 [==============================] - 3s 56us/step - loss: 0.3440 - acc: 0.9002 - val_loss: 0.3429 - val_acc: 0.9019\n",
            "Epoch 28/30\n",
            "60000/60000 [==============================] - 3s 54us/step - loss: 0.3382 - acc: 0.9015 - val_loss: 0.3599 - val_acc: 0.8994\n",
            "Epoch 29/30\n",
            "60000/60000 [==============================] - 3s 55us/step - loss: 0.3365 - acc: 0.9032 - val_loss: 0.3438 - val_acc: 0.9040\n",
            "Epoch 30/30\n",
            "60000/60000 [==============================] - 3s 52us/step - loss: 0.3368 - acc: 0.9030 - val_loss: 0.3601 - val_acc: 0.8939\n"
          ],
          "name": "stdout"
        },
        {
          "output_type": "execute_result",
          "data": {
            "text/plain": [
              "<keras.callbacks.History at 0x7f969792ec18>"
            ]
          },
          "metadata": {
            "tags": []
          },
          "execution_count": 12
        }
      ]
    },
    {
      "cell_type": "code",
      "metadata": {
        "id": "irAlb52trjez",
        "colab_type": "code",
        "colab": {}
      },
      "source": [
        ""
      ],
      "execution_count": 0,
      "outputs": []
    }
  ]
}